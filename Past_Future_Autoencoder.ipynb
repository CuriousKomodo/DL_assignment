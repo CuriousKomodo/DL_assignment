{
  "nbformat": 4,
  "nbformat_minor": 0,
  "metadata": {
    "colab": {
      "name": "Past_Future_Autoencoder.ipynb",
      "version": "0.3.2",
      "provenance": [],
      "collapsed_sections": [
        "vOwY2fRfVRzG",
        "jNUk3UoDJrpR",
        "g-c7V5P161XO",
        "TciOS5FbBZsM",
        "jxQxKPtx3gL9",
        "ctKL8FD3lznl",
        "Z8xpNnd-0p4X"
      ],
      "include_colab_link": true
    },
    "kernelspec": {
      "name": "python3",
      "display_name": "Python 3"
    },
    "accelerator": "GPU"
  },
  "cells": [
    {
      "cell_type": "markdown",
      "metadata": {
        "id": "view-in-github",
        "colab_type": "text"
      },
      "source": [
        "<a href=\"https://colab.research.google.com/github/CuriousKomodo/DL_assignment/blob/master/Past_Future_Autoencoder.ipynb\" target=\"_parent\"><img src=\"https://colab.research.google.com/assets/colab-badge.svg\" alt=\"Open In Colab\"/></a>"
      ]
    },
    {
      "cell_type": "code",
      "metadata": {
        "id": "80WMJynJkrPQ",
        "colab_type": "code",
        "outputId": "b48a45bf-6a44-420b-d261-230a3eb3b75a",
        "colab": {
          "base_uri": "https://localhost:8080/",
          "height": 34
        }
      },
      "source": [
        "import os\n",
        "import random\n",
        "\n",
        "import numpy as np\n",
        "import tensorflow as tf\n",
        "import matplotlib.pyplot as plt\n",
        "\n",
        "import keras\n",
        "from keras import callbacks, layers, losses, models, optimizers\n",
        "from keras import backend as K\n",
        "#from visualise import *\n",
        "from keras.models import Model\n",
        "from keras.layers import Input\n",
        "from keras.layers import LSTM,CuDNNLSTM\n",
        "from keras.layers import Dense\n",
        "from keras.utils.vis_utils import plot_model\n",
        "from keras.layers import Dropout\n",
        "\n",
        "dataset_path= '/content/drive/My Drive/Dataset/'\n",
        "import theano\n"
      ],
      "execution_count": 1,
      "outputs": [
        {
          "output_type": "stream",
          "text": [
            "Using TensorFlow backend.\n"
          ],
          "name": "stderr"
        }
      ]
    },
    {
      "cell_type": "code",
      "metadata": {
        "id": "3EmMKRWF4mjq",
        "colab_type": "code",
        "outputId": "d8a05f3a-7fa2-421c-a168-7df6ba1037be",
        "colab": {
          "base_uri": "https://localhost:8080/",
          "height": 156
        }
      },
      "source": [
        "from keras import backend as K\n",
        "K.clear_session()"
      ],
      "execution_count": 2,
      "outputs": [
        {
          "output_type": "stream",
          "text": [
            "WARNING: Logging before flag parsing goes to stderr.\n",
            "W0704 17:58:28.644597 140437989459840 deprecation_wrapper.py:119] From /usr/local/lib/python3.6/dist-packages/keras/backend/tensorflow_backend.py:95: The name tf.reset_default_graph is deprecated. Please use tf.compat.v1.reset_default_graph instead.\n",
            "\n",
            "W0704 17:58:28.650498 140437989459840 deprecation_wrapper.py:119] From /usr/local/lib/python3.6/dist-packages/keras/backend/tensorflow_backend.py:98: The name tf.placeholder_with_default is deprecated. Please use tf.compat.v1.placeholder_with_default instead.\n",
            "\n",
            "W0704 17:58:28.688207 140437989459840 deprecation_wrapper.py:119] From /usr/local/lib/python3.6/dist-packages/keras/backend/tensorflow_backend.py:102: The name tf.get_default_graph is deprecated. Please use tf.compat.v1.get_default_graph instead.\n",
            "\n"
          ],
          "name": "stderr"
        }
      ]
    },
    {
      "cell_type": "code",
      "metadata": {
        "id": "aPOZqxU4Q4rS",
        "colab_type": "code",
        "outputId": "1080db81-4ae3-4b8d-83bc-32930c1f4df8",
        "colab": {
          "base_uri": "https://localhost:8080/",
          "height": 122
        }
      },
      "source": [
        "from google.colab import drive\n",
        "drive.mount('/content/drive')"
      ],
      "execution_count": 3,
      "outputs": [
        {
          "output_type": "stream",
          "text": [
            "Go to this URL in a browser: https://accounts.google.com/o/oauth2/auth?client_id=947318989803-6bn6qk8qdgf4n4g3pfee6491hc0brc4i.apps.googleusercontent.com&redirect_uri=urn%3Aietf%3Awg%3Aoauth%3A2.0%3Aoob&scope=email%20https%3A%2F%2Fwww.googleapis.com%2Fauth%2Fdocs.test%20https%3A%2F%2Fwww.googleapis.com%2Fauth%2Fdrive%20https%3A%2F%2Fwww.googleapis.com%2Fauth%2Fdrive.photos.readonly%20https%3A%2F%2Fwww.googleapis.com%2Fauth%2Fpeopleapi.readonly&response_type=code\n",
            "\n",
            "Enter your authorization code:\n",
            "··········\n",
            "Mounted at /content/drive\n"
          ],
          "name": "stdout"
        }
      ]
    },
    {
      "cell_type": "markdown",
      "metadata": {
        "id": "vOwY2fRfVRzG",
        "colab_type": "text"
      },
      "source": [
        "## Create Validation Set"
      ]
    },
    {
      "cell_type": "code",
      "metadata": {
        "id": "7MzZQ7yRHIhf",
        "colab_type": "code",
        "colab": {}
      },
      "source": [
        "'''\n",
        "X_train = np.load(dataset_path + 'PKUMMD/X_train.npy')\n",
        "Y_train = np.load(dataset_path + 'PKUMMD/y_train.npy')\n",
        "X_val= np.load(dataset_path + 'PKUMMD/X_test.npy')\n",
        "Y_val = np.load(dataset_path + 'PKUMMD/y_val.npy')\n",
        "\n",
        "X = np.concatenate([X_train,X_val],axis=0)\n",
        "Y = np.concatenate([X_train,X_val],axis=0)\n",
        "'''"
      ],
      "execution_count": 0,
      "outputs": []
    },
    {
      "cell_type": "code",
      "metadata": {
        "id": "NQrcWJLzUE9Z",
        "colab_type": "code",
        "colab": {}
      },
      "source": [
        "\n",
        "import numpy as np\n",
        "from sklearn.model_selection import train_test_split\n",
        "#MAYBE GET VALIDATION SET AS WELL FROM THE CURRENT TRAINING SET. \n",
        "#X = np.load(dataset_path + 'PKUMMD/X_train.npy')\n",
        "#Y = np.load(dataset_path + 'PKUMMD/y_train.npy')\n",
        "X_train, X_val, y_train, y_val = train_test_split(X, Y, test_size=0.1, random_state=42)\n",
        "np.save(dataset_path + 'PKUMMD/X_train.npy',X_train)\n",
        "np.save(dataset_path + 'PKUMMD/X_val.npy',X_val)\n",
        "np.save(dataset_path + 'PKUMMD/y_train.npy',y_train)\n",
        "np.save(dataset_path + 'PKUMMD/y_val.npy',y_val)\n"
      ],
      "execution_count": 0,
      "outputs": []
    },
    {
      "cell_type": "code",
      "metadata": {
        "id": "FCetFdGBU4uM",
        "colab_type": "code",
        "colab": {}
      },
      "source": [
        ""
      ],
      "execution_count": 0,
      "outputs": []
    },
    {
      "cell_type": "markdown",
      "metadata": {
        "id": "jNUk3UoDJrpR",
        "colab_type": "text"
      },
      "source": [
        "# Scrap model"
      ]
    },
    {
      "cell_type": "code",
      "metadata": {
        "id": "BGB4QoArJqyy",
        "colab_type": "code",
        "outputId": "d929f26f-7a3c-4064-fb2a-93601b492159",
        "colab": {
          "base_uri": "https://localhost:8080/",
          "height": 511
        }
      },
      "source": [
        "\n",
        "class Past_DataGenerator(keras.utils.Sequence):\n",
        "\n",
        "    def __init__(self,\n",
        "                 train_data_dir=dataset_path + 'PKUMMD/X_train.npy',\n",
        "                 valid_data_dir=dataset_path + 'PKUMMD/X_val.npy',\n",
        "                 train=True,\n",
        "                 win_size=300,\n",
        "                 step_size=2,\n",
        "                 batch_size=128,\n",
        "                 shuffle=True,\n",
        "                 **kwargs):\n",
        "      \n",
        "        self.train_data_dir = train_data_dir\n",
        "        self.valid_data_dir = valid_data_dir\n",
        "        self.win_size = win_size\n",
        "        self.step_size = step_size\n",
        "        self.train=train\n",
        "        self.batch_size = batch_size\n",
        "        self.shuffle = shuffle\n",
        "        self.data_list = self.load_data()\n",
        "        self.on_epoch_end()\n",
        "\n",
        "    def __len__(self):\n",
        "        return int(len(self.data_list) / self.batch_size)\n",
        "\n",
        "    def __getitem__(self, idx):\n",
        "        if self.train:\n",
        "          data = self.data_list[idx * self.batch_size:(idx + 1) * self.batch_size] #load by batch.\n",
        "        else:\n",
        "          data = self.data_list\n",
        "        X = np.asarray(data, dtype=np.float32)\n",
        "        Y = np.flip(X, axis=1)\n",
        "        return X, Y\n",
        "\n",
        "    def on_epoch_end(self):\n",
        "        if self.shuffle:\n",
        "            random.shuffle(self.data_list)\n",
        "\n",
        "    def load_data(self):\n",
        "        '''\n",
        "        data_list = []\n",
        "        for f in os.listdir(self.data_dir):\n",
        "            path = os.path.join(self.data_dir, f)\n",
        "            data = np.load(path)\n",
        "            size = int((len(data) - self.win_size) / self.step_size) + 1\n",
        "            for i in range(size):\n",
        "                data_list.append(data[self.step_size * i:self.step_size * i + self.win_size])\n",
        "                '''\n",
        "        if self.train:\n",
        "          data_list = np.load(self.train_data_dir)\n",
        "        else:\n",
        "          data_list = np.load(self.valid_data_dir)\n",
        "        return data_list\n",
        "\n",
        "\n",
        "class LSTMAE(object):\n",
        "\n",
        "    def __init__(self, dim=75, hidden_units=256):\n",
        "        self.dim = dim\n",
        "        self.hidden_units = hidden_units\n",
        "        self.model = self.build()\n",
        "\n",
        "    def build(self):\n",
        "        inputs = layers.Input(shape=(None, self.dim))\n",
        "\n",
        "        encoder = layers.CuDNNLSTM(self.hidden_units, return_state=True)\n",
        "        decoder = layers.CuDNNLSTM(self.hidden_units, return_sequences=True, go_backwards=True)\n",
        "\n",
        "        en_out, en_h, en_c = encoder(inputs)\n",
        "\n",
        "        en_out = layers.Lambda(lambda x: x[:, None, :])(en_out)\n",
        "\n",
        "        de_in = layers.Lambda(lambda x: x[:, 1:, :])(inputs) \n",
        "\n",
        "        de_outs = decoder(de_in, initial_state=[en_h, en_c])\n",
        "\n",
        "        output = layers.concatenate([en_out, de_outs], 1)\n",
        "\n",
        "        out_linear = layers.TimeDistributed(layers.Dense(self.dim))\n",
        "        out = out_linear(output)\n",
        "\n",
        "        return models.Model(inputs, out)\n",
        "\n",
        "    def train(self):\n",
        "        params_train = {\n",
        "      'lr': 0.0005,'batch_size': 256, 'epochs': 30,'win_size': 600,'train':True}\n",
        "        \n",
        "        params_valid = {\n",
        "      'lr': 0.0005,'batch_size': 256, 'epochs': 30,'win_size': 600,'train':False}\n",
        "\n",
        "        self.model.compile(optimizer=optimizers.Adam(lr=params['lr']),\n",
        "                           loss=losses.mean_squared_error)\n",
        "        self.model.fit_generator(generator=DataGenerator(**params_train),\n",
        "                                 epochs=params['epochs'],validation_data = DataGenerator(**params_valid))\n",
        "\n",
        "    def predict(self, seq):\n",
        "        # seq: (bs, seq_len, dim)\n",
        "        res = self.model.predict(seq, verbose=1)\n",
        "        return res[:, ::-1, :]\n",
        "\n",
        "\n",
        "#train_X = np.load(dataset_path +'X_train.npy')\n",
        "\n",
        "ae = LSTMAE(hidden_units=512)\n",
        "ae.train()\n",
        "X_test = np.load(dataset_path + 'PKUMMD/X_test.npy')\n",
        "pred = ae.predict(X_test)\n",
        "\n",
        "\n",
        "def mse(X, Y, axis=None):\n",
        "  return (np.square(Y-X)).mean(axis=axis)\n",
        "\n",
        "loss = mse(pred.squeeze(), X_test.squeeze(), axis=0)\n",
        "\n",
        "#for example in list_examples_visualise:\n",
        "#    visualizing_prediction(X_test_target, pred_test, example)\n"
      ],
      "execution_count": 0,
      "outputs": [
        {
          "output_type": "stream",
          "text": [
            "Epoch 1/5\n"
          ],
          "name": "stdout"
        },
        {
          "output_type": "error",
          "ename": "InvalidArgumentError",
          "evalue": "ignored",
          "traceback": [
            "\u001b[0;31m---------------------------------------------------------------------------\u001b[0m",
            "\u001b[0;31mInvalidArgumentError\u001b[0m                      Traceback (most recent call last)",
            "\u001b[0;32m<ipython-input-173-69273bc094ca>\u001b[0m in \u001b[0;36m<module>\u001b[0;34m()\u001b[0m\n\u001b[1;32m    104\u001b[0m \u001b[0;34m\u001b[0m\u001b[0m\n\u001b[1;32m    105\u001b[0m \u001b[0mae\u001b[0m \u001b[0;34m=\u001b[0m \u001b[0mLSTMAE\u001b[0m\u001b[0;34m(\u001b[0m\u001b[0mhidden_units\u001b[0m\u001b[0;34m=\u001b[0m\u001b[0;36m512\u001b[0m\u001b[0;34m)\u001b[0m\u001b[0;34m\u001b[0m\u001b[0;34m\u001b[0m\u001b[0m\n\u001b[0;32m--> 106\u001b[0;31m \u001b[0mae\u001b[0m\u001b[0;34m.\u001b[0m\u001b[0mtrain\u001b[0m\u001b[0;34m(\u001b[0m\u001b[0;34m)\u001b[0m\u001b[0;34m\u001b[0m\u001b[0;34m\u001b[0m\u001b[0m\n\u001b[0m\u001b[1;32m    107\u001b[0m \u001b[0mX_test\u001b[0m \u001b[0;34m=\u001b[0m \u001b[0mnp\u001b[0m\u001b[0;34m.\u001b[0m\u001b[0mload\u001b[0m\u001b[0;34m(\u001b[0m\u001b[0mdataset_path\u001b[0m \u001b[0;34m+\u001b[0m \u001b[0;34m'PKUMMD/X_test.npy'\u001b[0m\u001b[0;34m)\u001b[0m\u001b[0;34m\u001b[0m\u001b[0;34m\u001b[0m\u001b[0m\n\u001b[1;32m    108\u001b[0m \u001b[0mpred\u001b[0m \u001b[0;34m=\u001b[0m \u001b[0mae\u001b[0m\u001b[0;34m.\u001b[0m\u001b[0mpredict\u001b[0m\u001b[0;34m(\u001b[0m\u001b[0mX_test\u001b[0m\u001b[0;34m)\u001b[0m\u001b[0;34m\u001b[0m\u001b[0;34m\u001b[0m\u001b[0m\n",
            "\u001b[0;32m<ipython-input-173-69273bc094ca>\u001b[0m in \u001b[0;36mtrain\u001b[0;34m(self)\u001b[0m\n\u001b[1;32m     93\u001b[0m                            loss=losses.mean_squared_error)\n\u001b[1;32m     94\u001b[0m         self.model.fit_generator(generator=DataGenerator(**params_train),\n\u001b[0;32m---> 95\u001b[0;31m                                  epochs=params['epochs'],validation_data = DataGenerator(**params_valid))\n\u001b[0m\u001b[1;32m     96\u001b[0m \u001b[0;34m\u001b[0m\u001b[0m\n\u001b[1;32m     97\u001b[0m     \u001b[0;32mdef\u001b[0m \u001b[0mpredict\u001b[0m\u001b[0;34m(\u001b[0m\u001b[0mself\u001b[0m\u001b[0;34m,\u001b[0m \u001b[0mseq\u001b[0m\u001b[0;34m)\u001b[0m\u001b[0;34m:\u001b[0m\u001b[0;34m\u001b[0m\u001b[0;34m\u001b[0m\u001b[0m\n",
            "\u001b[0;32m/usr/local/lib/python3.6/dist-packages/keras/legacy/interfaces.py\u001b[0m in \u001b[0;36mwrapper\u001b[0;34m(*args, **kwargs)\u001b[0m\n\u001b[1;32m     89\u001b[0m                 warnings.warn('Update your `' + object_name + '` call to the ' +\n\u001b[1;32m     90\u001b[0m                               'Keras 2 API: ' + signature, stacklevel=2)\n\u001b[0;32m---> 91\u001b[0;31m             \u001b[0;32mreturn\u001b[0m \u001b[0mfunc\u001b[0m\u001b[0;34m(\u001b[0m\u001b[0;34m*\u001b[0m\u001b[0margs\u001b[0m\u001b[0;34m,\u001b[0m \u001b[0;34m**\u001b[0m\u001b[0mkwargs\u001b[0m\u001b[0;34m)\u001b[0m\u001b[0;34m\u001b[0m\u001b[0;34m\u001b[0m\u001b[0m\n\u001b[0m\u001b[1;32m     92\u001b[0m         \u001b[0mwrapper\u001b[0m\u001b[0;34m.\u001b[0m\u001b[0m_original_function\u001b[0m \u001b[0;34m=\u001b[0m \u001b[0mfunc\u001b[0m\u001b[0;34m\u001b[0m\u001b[0;34m\u001b[0m\u001b[0m\n\u001b[1;32m     93\u001b[0m         \u001b[0;32mreturn\u001b[0m \u001b[0mwrapper\u001b[0m\u001b[0;34m\u001b[0m\u001b[0;34m\u001b[0m\u001b[0m\n",
            "\u001b[0;32m/usr/local/lib/python3.6/dist-packages/keras/engine/training.py\u001b[0m in \u001b[0;36mfit_generator\u001b[0;34m(self, generator, steps_per_epoch, epochs, verbose, callbacks, validation_data, validation_steps, class_weight, max_queue_size, workers, use_multiprocessing, shuffle, initial_epoch)\u001b[0m\n\u001b[1;32m   1416\u001b[0m             \u001b[0muse_multiprocessing\u001b[0m\u001b[0;34m=\u001b[0m\u001b[0muse_multiprocessing\u001b[0m\u001b[0;34m,\u001b[0m\u001b[0;34m\u001b[0m\u001b[0;34m\u001b[0m\u001b[0m\n\u001b[1;32m   1417\u001b[0m             \u001b[0mshuffle\u001b[0m\u001b[0;34m=\u001b[0m\u001b[0mshuffle\u001b[0m\u001b[0;34m,\u001b[0m\u001b[0;34m\u001b[0m\u001b[0;34m\u001b[0m\u001b[0m\n\u001b[0;32m-> 1418\u001b[0;31m             initial_epoch=initial_epoch)\n\u001b[0m\u001b[1;32m   1419\u001b[0m \u001b[0;34m\u001b[0m\u001b[0m\n\u001b[1;32m   1420\u001b[0m     \u001b[0;34m@\u001b[0m\u001b[0minterfaces\u001b[0m\u001b[0;34m.\u001b[0m\u001b[0mlegacy_generator_methods_support\u001b[0m\u001b[0;34m\u001b[0m\u001b[0;34m\u001b[0m\u001b[0m\n",
            "\u001b[0;32m/usr/local/lib/python3.6/dist-packages/keras/engine/training_generator.py\u001b[0m in \u001b[0;36mfit_generator\u001b[0;34m(model, generator, steps_per_epoch, epochs, verbose, callbacks, validation_data, validation_steps, class_weight, max_queue_size, workers, use_multiprocessing, shuffle, initial_epoch)\u001b[0m\n\u001b[1;32m    215\u001b[0m                 outs = model.train_on_batch(x, y,\n\u001b[1;32m    216\u001b[0m                                             \u001b[0msample_weight\u001b[0m\u001b[0;34m=\u001b[0m\u001b[0msample_weight\u001b[0m\u001b[0;34m,\u001b[0m\u001b[0;34m\u001b[0m\u001b[0;34m\u001b[0m\u001b[0m\n\u001b[0;32m--> 217\u001b[0;31m                                             class_weight=class_weight)\n\u001b[0m\u001b[1;32m    218\u001b[0m \u001b[0;34m\u001b[0m\u001b[0m\n\u001b[1;32m    219\u001b[0m                 \u001b[0mouts\u001b[0m \u001b[0;34m=\u001b[0m \u001b[0mto_list\u001b[0m\u001b[0;34m(\u001b[0m\u001b[0mouts\u001b[0m\u001b[0;34m)\u001b[0m\u001b[0;34m\u001b[0m\u001b[0;34m\u001b[0m\u001b[0m\n",
            "\u001b[0;32m/usr/local/lib/python3.6/dist-packages/keras/engine/training.py\u001b[0m in \u001b[0;36mtrain_on_batch\u001b[0;34m(self, x, y, sample_weight, class_weight)\u001b[0m\n\u001b[1;32m   1215\u001b[0m             \u001b[0mins\u001b[0m \u001b[0;34m=\u001b[0m \u001b[0mx\u001b[0m \u001b[0;34m+\u001b[0m \u001b[0my\u001b[0m \u001b[0;34m+\u001b[0m \u001b[0msample_weights\u001b[0m\u001b[0;34m\u001b[0m\u001b[0;34m\u001b[0m\u001b[0m\n\u001b[1;32m   1216\u001b[0m         \u001b[0mself\u001b[0m\u001b[0;34m.\u001b[0m\u001b[0m_make_train_function\u001b[0m\u001b[0;34m(\u001b[0m\u001b[0;34m)\u001b[0m\u001b[0;34m\u001b[0m\u001b[0;34m\u001b[0m\u001b[0m\n\u001b[0;32m-> 1217\u001b[0;31m         \u001b[0moutputs\u001b[0m \u001b[0;34m=\u001b[0m \u001b[0mself\u001b[0m\u001b[0;34m.\u001b[0m\u001b[0mtrain_function\u001b[0m\u001b[0;34m(\u001b[0m\u001b[0mins\u001b[0m\u001b[0;34m)\u001b[0m\u001b[0;34m\u001b[0m\u001b[0;34m\u001b[0m\u001b[0m\n\u001b[0m\u001b[1;32m   1218\u001b[0m         \u001b[0;32mreturn\u001b[0m \u001b[0munpack_singleton\u001b[0m\u001b[0;34m(\u001b[0m\u001b[0moutputs\u001b[0m\u001b[0;34m)\u001b[0m\u001b[0;34m\u001b[0m\u001b[0;34m\u001b[0m\u001b[0m\n\u001b[1;32m   1219\u001b[0m \u001b[0;34m\u001b[0m\u001b[0m\n",
            "\u001b[0;32m/usr/local/lib/python3.6/dist-packages/keras/backend/tensorflow_backend.py\u001b[0m in \u001b[0;36m__call__\u001b[0;34m(self, inputs)\u001b[0m\n\u001b[1;32m   2713\u001b[0m                 \u001b[0;32mreturn\u001b[0m \u001b[0mself\u001b[0m\u001b[0;34m.\u001b[0m\u001b[0m_legacy_call\u001b[0m\u001b[0;34m(\u001b[0m\u001b[0minputs\u001b[0m\u001b[0;34m)\u001b[0m\u001b[0;34m\u001b[0m\u001b[0;34m\u001b[0m\u001b[0m\n\u001b[1;32m   2714\u001b[0m \u001b[0;34m\u001b[0m\u001b[0m\n\u001b[0;32m-> 2715\u001b[0;31m             \u001b[0;32mreturn\u001b[0m \u001b[0mself\u001b[0m\u001b[0;34m.\u001b[0m\u001b[0m_call\u001b[0m\u001b[0;34m(\u001b[0m\u001b[0minputs\u001b[0m\u001b[0;34m)\u001b[0m\u001b[0;34m\u001b[0m\u001b[0;34m\u001b[0m\u001b[0m\n\u001b[0m\u001b[1;32m   2716\u001b[0m         \u001b[0;32melse\u001b[0m\u001b[0;34m:\u001b[0m\u001b[0;34m\u001b[0m\u001b[0;34m\u001b[0m\u001b[0m\n\u001b[1;32m   2717\u001b[0m             \u001b[0;32mif\u001b[0m \u001b[0mpy_any\u001b[0m\u001b[0;34m(\u001b[0m\u001b[0mis_tensor\u001b[0m\u001b[0;34m(\u001b[0m\u001b[0mx\u001b[0m\u001b[0;34m)\u001b[0m \u001b[0;32mfor\u001b[0m \u001b[0mx\u001b[0m \u001b[0;32min\u001b[0m \u001b[0minputs\u001b[0m\u001b[0;34m)\u001b[0m\u001b[0;34m:\u001b[0m\u001b[0;34m\u001b[0m\u001b[0;34m\u001b[0m\u001b[0m\n",
            "\u001b[0;32m/usr/local/lib/python3.6/dist-packages/keras/backend/tensorflow_backend.py\u001b[0m in \u001b[0;36m_call\u001b[0;34m(self, inputs)\u001b[0m\n\u001b[1;32m   2673\u001b[0m             \u001b[0mfetched\u001b[0m \u001b[0;34m=\u001b[0m \u001b[0mself\u001b[0m\u001b[0;34m.\u001b[0m\u001b[0m_callable_fn\u001b[0m\u001b[0;34m(\u001b[0m\u001b[0;34m*\u001b[0m\u001b[0marray_vals\u001b[0m\u001b[0;34m,\u001b[0m \u001b[0mrun_metadata\u001b[0m\u001b[0;34m=\u001b[0m\u001b[0mself\u001b[0m\u001b[0;34m.\u001b[0m\u001b[0mrun_metadata\u001b[0m\u001b[0;34m)\u001b[0m\u001b[0;34m\u001b[0m\u001b[0;34m\u001b[0m\u001b[0m\n\u001b[1;32m   2674\u001b[0m         \u001b[0;32melse\u001b[0m\u001b[0;34m:\u001b[0m\u001b[0;34m\u001b[0m\u001b[0;34m\u001b[0m\u001b[0m\n\u001b[0;32m-> 2675\u001b[0;31m             \u001b[0mfetched\u001b[0m \u001b[0;34m=\u001b[0m \u001b[0mself\u001b[0m\u001b[0;34m.\u001b[0m\u001b[0m_callable_fn\u001b[0m\u001b[0;34m(\u001b[0m\u001b[0;34m*\u001b[0m\u001b[0marray_vals\u001b[0m\u001b[0;34m)\u001b[0m\u001b[0;34m\u001b[0m\u001b[0;34m\u001b[0m\u001b[0m\n\u001b[0m\u001b[1;32m   2676\u001b[0m         \u001b[0;32mreturn\u001b[0m \u001b[0mfetched\u001b[0m\u001b[0;34m[\u001b[0m\u001b[0;34m:\u001b[0m\u001b[0mlen\u001b[0m\u001b[0;34m(\u001b[0m\u001b[0mself\u001b[0m\u001b[0;34m.\u001b[0m\u001b[0moutputs\u001b[0m\u001b[0;34m)\u001b[0m\u001b[0;34m]\u001b[0m\u001b[0;34m\u001b[0m\u001b[0;34m\u001b[0m\u001b[0m\n\u001b[1;32m   2677\u001b[0m \u001b[0;34m\u001b[0m\u001b[0m\n",
            "\u001b[0;32m/usr/local/lib/python3.6/dist-packages/tensorflow/python/client/session.py\u001b[0m in \u001b[0;36m__call__\u001b[0;34m(self, *args, **kwargs)\u001b[0m\n\u001b[1;32m   1456\u001b[0m         ret = tf_session.TF_SessionRunCallable(self._session._session,\n\u001b[1;32m   1457\u001b[0m                                                \u001b[0mself\u001b[0m\u001b[0;34m.\u001b[0m\u001b[0m_handle\u001b[0m\u001b[0;34m,\u001b[0m \u001b[0margs\u001b[0m\u001b[0;34m,\u001b[0m\u001b[0;34m\u001b[0m\u001b[0;34m\u001b[0m\u001b[0m\n\u001b[0;32m-> 1458\u001b[0;31m                                                run_metadata_ptr)\n\u001b[0m\u001b[1;32m   1459\u001b[0m         \u001b[0;32mif\u001b[0m \u001b[0mrun_metadata\u001b[0m\u001b[0;34m:\u001b[0m\u001b[0;34m\u001b[0m\u001b[0;34m\u001b[0m\u001b[0m\n\u001b[1;32m   1460\u001b[0m           \u001b[0mproto_data\u001b[0m \u001b[0;34m=\u001b[0m \u001b[0mtf_session\u001b[0m\u001b[0;34m.\u001b[0m\u001b[0mTF_GetBuffer\u001b[0m\u001b[0;34m(\u001b[0m\u001b[0mrun_metadata_ptr\u001b[0m\u001b[0;34m)\u001b[0m\u001b[0;34m\u001b[0m\u001b[0;34m\u001b[0m\u001b[0m\n",
            "\u001b[0;31mInvalidArgumentError\u001b[0m: 2 root error(s) found.\n  (0) Invalid argument: Incompatible shapes: [256,699,75] vs. [256,698,75]\n\t [[{{node loss_5/time_distributed_6_loss/sub}}]]\n\t [[loss_5/mul/_667]]\n  (1) Invalid argument: Incompatible shapes: [256,699,75] vs. [256,698,75]\n\t [[{{node loss_5/time_distributed_6_loss/sub}}]]\n0 successful operations.\n0 derived errors ignored."
          ]
        }
      ]
    },
    {
      "cell_type": "code",
      "metadata": {
        "id": "4nWjvw1qSE8K",
        "colab_type": "code",
        "colab": {}
      },
      "source": [
        "np.save(dataset_path + 'Past_AE_results/pred_test_last_10.npy',pred[-10:,:,:])\n",
        "np.save(dataset_path + 'Past_AE_results/pred_test_first_10.npy',pred[:10,:,:])"
      ],
      "execution_count": 0,
      "outputs": []
    },
    {
      "cell_type": "code",
      "metadata": {
        "id": "G1GZVfGqkryw",
        "colab_type": "code",
        "colab": {}
      },
      "source": [
        "X_train = np.load(dataset_path + 'PKUMMD/X_train.npy')\n",
        "pred_train = ae.predict(X_train)\n",
        "np.mean((pred_train - X_train)**2)"
      ],
      "execution_count": 0,
      "outputs": []
    },
    {
      "cell_type": "markdown",
      "metadata": {
        "id": "b-Dvo3aTJuCw",
        "colab_type": "text"
      },
      "source": [
        "# My Past AE Model"
      ]
    },
    {
      "cell_type": "markdown",
      "metadata": {
        "id": "tVfsOZUNuMed",
        "colab_type": "text"
      },
      "source": [
        "### Presort sequence - similar lengths batch, NOT WORKING"
      ]
    },
    {
      "cell_type": "code",
      "metadata": {
        "id": "xXY94GA2ubpv",
        "colab_type": "code",
        "colab": {}
      },
      "source": [
        "lengths = np.sum(np.sign(np.sum(np.sign(X_train),axis=-1)),axis=-1)\n",
        "idx = range(X_train.shape[0])\n",
        "Z = [x for _,x in sorted(zip(lengths,idx))]\n",
        "X_train_reordered = X_train[Z[100:],:,:] #short fix"
      ],
      "execution_count": 0,
      "outputs": []
    },
    {
      "cell_type": "code",
      "metadata": {
        "id": "rryokz1yVhuz",
        "colab_type": "code",
        "colab": {}
      },
      "source": [
        "lengths.sort()\n"
      ],
      "execution_count": 0,
      "outputs": []
    },
    {
      "cell_type": "code",
      "metadata": {
        "id": "AsMiQrLpV5KN",
        "colab_type": "code",
        "colab": {
          "base_uri": "https://localhost:8080/",
          "height": 34
        },
        "outputId": "81429995-85f2-46fb-bea9-96268c9c8f3a"
      },
      "source": [
        "lengths[100:]"
      ],
      "execution_count": 53,
      "outputs": [
        {
          "output_type": "execute_result",
          "data": {
            "text/plain": [
              "array([ 17.,  18.,  18., ..., 652., 694., 699.])"
            ]
          },
          "metadata": {
            "tags": []
          },
          "execution_count": 53
        }
      ]
    },
    {
      "cell_type": "markdown",
      "metadata": {
        "id": "ZkcL4rbvd2bW",
        "colab_type": "text"
      },
      "source": [
        "### K fold validation"
      ]
    },
    {
      "cell_type": "code",
      "metadata": {
        "id": "QX5refUFd3_4",
        "colab_type": "code",
        "colab": {}
      },
      "source": [
        "from sklearn.model_selection import StratifiedKFold\n",
        "\n",
        "def load_data():\n",
        "    # load your data using this function\n",
        "\n",
        "def create model():\n",
        "    # create your model using this function\n",
        "\n",
        "def train_and_evaluate__model(model, data_train, labels_train, data_test, labels_test):\n",
        "    model.fit...\n",
        "    # fit and evaluate here.\n",
        "\n",
        "if __name__ == \"__main__\":\n",
        "    n_folds = 10\n",
        "    data, labels, header_info = load_data()\n",
        "    skf = StratifiedKFold(labels, n_folds=n_folds, shuffle=True)\n",
        "\n",
        "    for i, (train, test) in enumerate(skf):\n",
        "        print \"Running Fold\", i+1, \"/\", n_folds\n",
        "        model = None # Clearing the NN.\n",
        "        model = create_model()\n",
        "        train_and_evaluate_model(model, data[train], labels[train], data[test], labels[test])"
      ],
      "execution_count": 0,
      "outputs": []
    },
    {
      "cell_type": "code",
      "metadata": {
        "id": "AJhcR77gd4Cp",
        "colab_type": "code",
        "colab": {}
      },
      "source": [
        ""
      ],
      "execution_count": 0,
      "outputs": []
    },
    {
      "cell_type": "code",
      "metadata": {
        "id": "8_KdAQWvd4Gf",
        "colab_type": "code",
        "colab": {}
      },
      "source": [
        ""
      ],
      "execution_count": 0,
      "outputs": []
    },
    {
      "cell_type": "markdown",
      "metadata": {
        "id": "ZeBYap82J76h",
        "colab_type": "text"
      },
      "source": [
        "### Model"
      ]
    },
    {
      "cell_type": "code",
      "metadata": {
        "id": "naxCLISyWr-C",
        "colab_type": "code",
        "colab": {}
      },
      "source": [
        "K.clear_session()\n",
        "from keras.layers import LSTM,CuDNNLSTM\n",
        "      \n",
        "class Past_DataGenerator(keras.utils.Sequence):\n",
        "\n",
        "    def __init__(self,\n",
        "                 train_data_dir=dataset_path + 'PKUMMD/X_train.npy',\n",
        "                 valid_data_dir=dataset_path + 'PKUMMD/X_val.npy',\n",
        "                 train=True,\n",
        "                 batch_size=128,\n",
        "                 shuffle=True,\n",
        "                 sort_batch_lengths = False, #can only be set to true when shuffle=False. \n",
        "                 **kwargs):\n",
        "      \n",
        "        self.train_data_dir = train_data_dir\n",
        "        self.valid_data_dir = valid_data_dir\n",
        "        self.train=train\n",
        "        self.sort_batch_lengths = sort_batch_lengths \n",
        "        self.batch_size = batch_size\n",
        "        self.shuffle = shuffle\n",
        "        self.data_list = self.load_data()\n",
        "        \n",
        "        #self.on_epoch_end()\n",
        "\n",
        "    def __len__(self):\n",
        "        return int(len(self.data_list) / self.batch_size)\n",
        "\n",
        "    def __getitem__(self, idx):\n",
        "        if self.train:\n",
        "          data = self.data_list[idx * self.batch_size:(idx + 1) * self.batch_size] #load by batch.\n",
        "          \n",
        "          if self.sort_batch_lengths:\n",
        "            lengths_batch = self.lengths[idx * self.batch_size:(idx + 1) * self.batch_size]\n",
        "            #print(lengths_batch)\n",
        "            max_length = lengths_batch.max()\n",
        "            data = data[:,:int(max_length),:]\n",
        "          \n",
        "        else:\n",
        "          data = self.data_list\n",
        "        \n",
        "        X = np.asarray(data, dtype=np.float32)\n",
        "        Y = np.flip(X, axis=1)\n",
        "        return X, Y\n",
        "\n",
        "    def on_epoch_end(self):\n",
        "        if self.shuffle:\n",
        "            random.shuffle(self.data_list)\n",
        "\n",
        "    def load_data(self):\n",
        "        if self.train:\n",
        "          data_list = np.load(self.train_data_dir)\n",
        "          \n",
        "          if self.sort_batch_lengths:\n",
        "            lengths = np.sum(np.sign(np.sum(np.sign(data_list),axis=-1)),axis=-1)\n",
        "            idx = range(data_list.shape[0])\n",
        "            Z = [x for _,x in sorted(zip(lengths,idx))] #indices. \n",
        "            data_list = data_list[Z[100:],:,:] #short fix, so sequences sorted ascendingly.  \n",
        "            lengths.sort()\n",
        "            self.lengths =lengths[100:] #only crop sequences long enough\n",
        "\n",
        "        else:\n",
        "          data_list = np.load(self.valid_data_dir)\n",
        "          \n",
        "        return data_list\n"
      ],
      "execution_count": 0,
      "outputs": []
    },
    {
      "cell_type": "code",
      "metadata": {
        "id": "77eaOqqxkr1O",
        "colab_type": "code",
        "colab": {}
      },
      "source": [
        "#https://gist.github.com/jovianlin/51b1c03851221c8ae46e5a8953239cc3\n",
        "\n",
        "from keras.models import Model\n",
        "from keras.layers import Input\n",
        "from keras.layers import LSTM\n",
        "from keras.layers import Dense\n",
        "from keras.utils.vis_utils import plot_model\n",
        "\n",
        "class past_LSTM_autoencoder(object):\n",
        "  \n",
        "    def __init__(self, input_dim=75, latent_dim=256,concat_h=True, conditional = False, lr = 0.0005, epochs=3, dropout_rate=0.05):\n",
        "        self.valid_data_dir = dataset_path + 'PKUMMD/X_val.npy',\n",
        "        self.input_dim = input_dim\n",
        "        self.latent_dim  = latent_dim \n",
        "        self.concat_h = concat_h\n",
        "        self.lr = lr\n",
        "        self.epochs = epochs\n",
        "        self.conditional = conditional\n",
        "        self.build_model()\n",
        "        self.x_val = self.load_validation_data()\n",
        "        self.target_val = np.flip(self.x_val, axis=1)\n",
        "        #self.dropout_rate = dropout_rate\n",
        "        \n",
        "\n",
        "    def build_model(self):\n",
        "        poses = Input(shape=(None, self.input_dim))\n",
        "        encoder = CuDNNLSTM(self.latent_dim, return_state=True)\n",
        "        decoder = CuDNNLSTM(self.latent_dim, return_sequences=True, go_backwards=True)\n",
        "        \n",
        "        encoder_outputs, state_h, state_c = encoder(poses)\n",
        "        encoder_states = [state_h, state_c] ## the last state? \n",
        "        en_out = layers.Lambda(lambda x: x[:, None, :])(encoder_outputs) #reshape to (?,1,latent_dim)\n",
        "        \n",
        "        decoder_inputs = layers.Lambda(lambda x: x[:, 1:,:])(poses) \n",
        "        decoder_outputs = decoder(decoder_inputs, initial_state=encoder_states)\n",
        "        \n",
        "        if self.concat_h:\n",
        "          ts_dense_inputs = layers.concatenate([en_out, decoder_outputs], 1)\n",
        "        else:\n",
        "          ts_dense_inputs = decoder_outputs\n",
        "        \n",
        "        \n",
        "        ts_dense = layers.TimeDistributed(layers.Dense(self.input_dim))\n",
        "        ts_dense_inputs = Dropout(0.1)(ts_dense_inputs)\n",
        "        pred = ts_dense(ts_dense_inputs)\n",
        "\n",
        "        self.model = Model(poses, pred)\n",
        "        self.enc_model = Model(poses, en_out)\n",
        "  \n",
        "    \n",
        "    def load_validation_data(self):\n",
        "        data_val= np.load(dataset_path + 'PKUMMD/X_val.npy')\n",
        "        return data_val\n",
        "      \n",
        "    def train(self):\n",
        "      params_train = {'train':True}\n",
        "        \n",
        "      params_valid = {'train':False}\n",
        "      \n",
        "      self.model.compile(optimizer=optimizers.Adam(lr=self.lr),loss=losses.mean_squared_error)\n",
        "      history_callback =self.model.fit_generator(generator=Past_DataGenerator(**params_train),\n",
        "                                 epochs=self.epochs,validation_data = Past_DataGenerator(**params_valid))\n",
        "      \n",
        "      self.loss_history = history_callback.history[\"loss\"]\n",
        "      self.val_loss_history = history_callback.history['val_loss']\n",
        "      #self.history = history\n",
        "      #self.model_checkpoint = model_checkpoint\n",
        "        \n",
        "    def obtain_hidden(self, x, layer_idx):\n",
        "      hidden_layers = keras.backend.function(\n",
        "        [self.model.layers[0].input],  # we will feed the function with the input of the first layer\n",
        "        [self.model.layers[layer_idx].output[0]] # we want to get the output of the second layer\n",
        "        )\n",
        "      h_past = hidden_layers([x])\n",
        "      return h_past\n",
        "    \n",
        "    def predict(self, test_seq):\n",
        "        pred = self.model.predict(test_seq, verbose=1)\n",
        "        return pred[:, ::-1, :]"
      ],
      "execution_count": 0,
      "outputs": []
    },
    {
      "cell_type": "code",
      "metadata": {
        "id": "HfRCqqfjmdU8",
        "colab_type": "code",
        "outputId": "321e131d-de4b-4f95-bc8b-d79cefaf5a8e",
        "colab": {
          "base_uri": "https://localhost:8080/",
          "height": 119
        }
      },
      "source": [
        "#tf.keras.backend.clear_session()\n",
        "past_ae = past_LSTM_autoencoder()\n",
        "past_ae.train()"
      ],
      "execution_count": 87,
      "outputs": [
        {
          "output_type": "stream",
          "text": [
            "Epoch 1/3\n",
            "13/13 [==============================] - 4s 321ms/step - loss: 0.0117 - val_loss: 0.0022\n",
            "Epoch 2/3\n",
            "13/13 [==============================] - 3s 231ms/step - loss: 0.0032 - val_loss: 0.0016\n",
            "Epoch 3/3\n",
            "13/13 [==============================] - 3s 232ms/step - loss: 0.0023 - val_loss: 0.0013\n"
          ],
          "name": "stdout"
        }
      ]
    },
    {
      "cell_type": "code",
      "metadata": {
        "id": "_dxiRETDbsBo",
        "colab_type": "code",
        "colab": {
          "base_uri": "https://localhost:8080/",
          "height": 34
        },
        "outputId": "9ae91849-7751-46c8-973f-240f8464ef3b"
      },
      "source": [
        "past_ae.loss_history"
      ],
      "execution_count": 89,
      "outputs": [
        {
          "output_type": "execute_result",
          "data": {
            "text/plain": [
              "[0.011721304653642269, 0.0031719741662247824, 0.002300037429309808]"
            ]
          },
          "metadata": {
            "tags": []
          },
          "execution_count": 89
        }
      ]
    },
    {
      "cell_type": "code",
      "metadata": {
        "id": "JLn_QsmwcAVP",
        "colab_type": "code",
        "colab": {
          "base_uri": "https://localhost:8080/",
          "height": 34
        },
        "outputId": "f233e1c5-9094-4b03-c704-258d8eba6d57"
      },
      "source": [
        "past_ae.val_loss_history"
      ],
      "execution_count": 88,
      "outputs": [
        {
          "output_type": "execute_result",
          "data": {
            "text/plain": [
              "[0.0022013885900378227, 0.0015981771284714341, 0.001252068323083222]"
            ]
          },
          "metadata": {
            "tags": []
          },
          "execution_count": 88
        }
      ]
    },
    {
      "cell_type": "code",
      "metadata": {
        "id": "sD88FlwbfcLJ",
        "colab_type": "code",
        "outputId": "c5f38c3a-b5c6-49bd-c03d-c377794221b6",
        "colab": {
          "base_uri": "https://localhost:8080/",
          "height": 71
        }
      },
      "source": [
        "past_ae.enc_model.save(dataset_path+'models/keras_past_model_hidden.h5')  # creates a HDF5 file 'my_model.h5'\n",
        "past_ae.model.save(dataset_path+'models/keras_past_model_pred.h5')  # creates a HDF5 file 'my_model.h5'"
      ],
      "execution_count": 0,
      "outputs": [
        {
          "output_type": "stream",
          "text": [
            "/usr/local/lib/python3.6/dist-packages/keras/engine/network.py:877: UserWarning: Layer cu_dnnlstm_6 was passed non-serializable keyword arguments: {'initial_state': [<tf.Tensor 'cu_dnnlstm_5/strided_slice_16:0' shape=(?, 256) dtype=float32>, <tf.Tensor 'cu_dnnlstm_5/strided_slice_17:0' shape=(?, 256) dtype=float32>]}. They will not be included in the serialized model (and thus will be missing at deserialization time).\n",
            "  '. They will not be included '\n"
          ],
          "name": "stderr"
        }
      ]
    },
    {
      "cell_type": "markdown",
      "metadata": {
        "id": "3ybqS2nGaYYc",
        "colab_type": "text"
      },
      "source": [
        "## Predict with current past AE model"
      ]
    },
    {
      "cell_type": "code",
      "metadata": {
        "id": "coe4T_PbRQGM",
        "colab_type": "code",
        "outputId": "2d850843-4359-4d56-92fe-40d7582f4ab2",
        "colab": {
          "base_uri": "https://localhost:8080/",
          "height": 34
        }
      },
      "source": [
        "#slightly overfitted. \n",
        "#X_test = np.load(dataset_path + 'PKUMMD/X_test.npy')\n",
        "pred = past_ae.model.predict(X_test,verbose=1)\n",
        "X_test_target = X_test.copy()\n",
        "X_test_target = X_test.copy()\n",
        "X_test_target= X_test_target[:,::-1,:]\n",
        "np.mean((pred - X_test_target[:,:,:])**2)\n",
        "np.save(dataset_path+'Past_AE_results/examples_10_test.npy',X_test[:10,:,:])\n",
        "np.save(dataset_path+'Past_AE_results/preds_10_test.npy',pred[:10,::-1,:])"
      ],
      "execution_count": 0,
      "outputs": [
        {
          "output_type": "stream",
          "text": [
            "452/452 [==============================] - 1s 2ms/step\n"
          ],
          "name": "stdout"
        }
      ]
    },
    {
      "cell_type": "code",
      "metadata": {
        "id": "-gcnbJ8Heq4B",
        "colab_type": "code",
        "outputId": "d9b13954-94c2-4d40-d89e-4427f8582c36",
        "colab": {
          "base_uri": "https://localhost:8080/",
          "height": 34
        }
      },
      "source": [
        "np.mean((pred - X_test_target[:,:,:])**2)"
      ],
      "execution_count": 0,
      "outputs": [
        {
          "output_type": "execute_result",
          "data": {
            "text/plain": [
              "0.0007946149443881862"
            ]
          },
          "metadata": {
            "tags": []
          },
          "execution_count": 184
        }
      ]
    },
    {
      "cell_type": "code",
      "metadata": {
        "id": "UgTDib4aZZUn",
        "colab_type": "code",
        "colab": {}
      },
      "source": [
        "pred = past_ae.model.predict(X_train[:100,:,:])\n",
        "X_train_target = X_train.copy()\n",
        "X_train_target = X_train[:100,:,:].copy()\n",
        "X_train_target= X_train_target[:100,::-1,:]\n",
        "np.mean((pred - X_train_target[:100,:,:])**2)\n",
        "\n",
        "np.save(dataset_path+'Past_AE_results/examples_10_train.npy',X_train[:10,:,:])\n",
        "np.save(dataset_path+'Past_AE_results/pred_10_train.npy',pred[:10,::-1,:])"
      ],
      "execution_count": 0,
      "outputs": []
    },
    {
      "cell_type": "code",
      "metadata": {
        "id": "7TbO_AQDZz2d",
        "colab_type": "code",
        "outputId": "de7d6da4-7de9-4802-8b4c-1ed52bf813d2",
        "colab": {
          "base_uri": "https://localhost:8080/",
          "height": 34
        }
      },
      "source": [
        "np.mean((pred - X_train_target[:100,:,:])**2)"
      ],
      "execution_count": 0,
      "outputs": [
        {
          "output_type": "execute_result",
          "data": {
            "text/plain": [
              "0.0008107621693811608"
            ]
          },
          "metadata": {
            "tags": []
          },
          "execution_count": 187
        }
      ]
    },
    {
      "cell_type": "code",
      "metadata": {
        "id": "IbgETuftZv09",
        "colab_type": "code",
        "colab": {}
      },
      "source": [
        ""
      ],
      "execution_count": 0,
      "outputs": []
    },
    {
      "cell_type": "markdown",
      "metadata": {
        "id": "A3Pp2BHZQ8iE",
        "colab_type": "text"
      },
      "source": [
        "# Load past model"
      ]
    },
    {
      "cell_type": "code",
      "metadata": {
        "id": "1wimppnydXae",
        "colab_type": "code",
        "outputId": "2da9d0e9-c461-4180-8ca2-fc31a9312220",
        "colab": {
          "base_uri": "https://localhost:8080/",
          "height": 71
        }
      },
      "source": [
        "from keras.models import load_model\n",
        "#K.clear_session()\n",
        "#model.model.save(dataset_path+'models/keras_past_model.h5')  # creates a HDF5 file 'my_model.h5'\n",
        "#del model  # deletes the existing model\n",
        "past_ae_lstm = load_model(dataset_path+'models/keras_past_model_hidden.h5')\n",
        "#past_ae_lstm = past_ae.enc_model"
      ],
      "execution_count": 0,
      "outputs": [
        {
          "output_type": "stream",
          "text": [
            "/usr/local/lib/python3.6/dist-packages/keras/engine/saving.py:292: UserWarning: No training configuration found in save file: the model was *not* compiled. Compile it manually.\n",
            "  warnings.warn('No training configuration found in save file: '\n"
          ],
          "name": "stderr"
        }
      ]
    },
    {
      "cell_type": "markdown",
      "metadata": {
        "id": "g-c7V5P161XO",
        "colab_type": "text"
      },
      "source": [
        "# Future VAE"
      ]
    },
    {
      "cell_type": "code",
      "metadata": {
        "id": "nY_O8BLL-Uoc",
        "colab_type": "code",
        "outputId": "f8015bac-604c-4460-ec72-cc82bac88f14",
        "colab": {
          "base_uri": "https://localhost:8080/",
          "height": 34
        }
      },
      "source": [
        "X_val = np.load(dataset_path + 'PKUMMD/X_test.npy')\n",
        "h_val = past_ae_lstm.predict(X_val)\n",
        "h_val.shape"
      ],
      "execution_count": 0,
      "outputs": [
        {
          "output_type": "execute_result",
          "data": {
            "text/plain": [
              "(452, 1, 256)"
            ]
          },
          "metadata": {
            "tags": []
          },
          "execution_count": 59
        }
      ]
    },
    {
      "cell_type": "code",
      "metadata": {
        "id": "eWas949veC5m",
        "colab_type": "code",
        "outputId": "c0cec314-6097-46c8-d2ae-f23d47745f50",
        "colab": {
          "base_uri": "https://localhost:8080/",
          "height": 34
        }
      },
      "source": [
        "len(np.arange(10,699,10))"
      ],
      "execution_count": 0,
      "outputs": [
        {
          "output_type": "execute_result",
          "data": {
            "text/plain": [
              "69"
            ]
          },
          "metadata": {
            "tags": []
          },
          "execution_count": 25
        }
      ]
    },
    {
      "cell_type": "markdown",
      "metadata": {
        "id": "ycyjFss0-O3o",
        "colab_type": "text"
      },
      "source": [
        "### Data Generator"
      ]
    },
    {
      "cell_type": "code",
      "metadata": {
        "id": "nKD507Wp-RPH",
        "colab_type": "code",
        "colab": {}
      },
      "source": [
        "#Generates inputs for encoder: which is concat of future poses with past information. \n",
        "#Also generates target, which is a few poses in future. \n",
        "#Set to one step for now, while h_past is computed from t>10\n",
        "\n",
        "class future_generator(keras.utils.Sequence):\n",
        "\n",
        "    def __init__(self,\n",
        "                 train_data_dir=dataset_path + 'PKUMMD/X_train.npy',\n",
        "                 #past_ae_dir = dataset_path+'models/keras_past_model_hidden.h5',\n",
        "                 past_ae_model = None,\n",
        "                 past_hidden_dim = 256,\n",
        "                 elem_dim=75,\n",
        "                 step_size = 2,\n",
        "                 batch_size=128,\n",
        "                 shuffle=True,\n",
        "                 n_poses_predict = 1, \n",
        "                 timestep = 10,\n",
        "                 time_start = 10,\n",
        "                 **kwargs):\n",
        "        \n",
        "        self.train_data_dir = train_data_dir\n",
        "        self.past_hidden_dim = past_hidden_dim\n",
        "        self.timestep = timestep\n",
        "        self.elem_dim = elem_dim\n",
        "        self.batch_size = batch_size\n",
        "        self.shuffle = shuffle\n",
        "        self.time_start = time_start\n",
        "        self.step_size = step_size\n",
        "        self.data_list = self.load_data()\n",
        "        self.past_ae = past_ae_model \n",
        "        self.on_epoch_end()\n",
        "        \n",
        "\n",
        "    def load_past_model(self):\n",
        "        past_model = load_model(self.past_ae_dir)\n",
        "        return past_model\n",
        "\n",
        "    def __len__(self):\n",
        "        return int(len(self.data_list) / self.batch_size)\n",
        "\n",
        "    def __getitem__(self, idx):\n",
        "        data = self.data_list[idx * self.batch_size:(idx + 1) * self.batch_size] #load by batch.\n",
        "        X = np.asarray(data, dtype=np.float32)\n",
        "        max_length=X.shape[1]\n",
        "        time_frames = np.arange(self.time_start,max_length-self.timestep, self.step_size)\n",
        "        timesteps_to_loop = len(time_frames)\n",
        "        \n",
        "        #treat each time step as a separate example\n",
        "        h_past_array = np.zeros((self.batch_size*(timesteps_to_loop+1), self.past_hidden_dim))\n",
        "        future_poses_array = np.zeros((self.batch_size*(timesteps_to_loop+1),self.timestep,self.elem_dim))\n",
        "        target_array= np.zeros((self.batch_size*(timesteps_to_loop+1),self.elem_dim))\n",
        "        \n",
        "        for i in range(len(time_frames)): #timestep\n",
        "          # always predict one time step ahead during training\n",
        "          t = time_frames[i]\n",
        "          #print('t=',t)\n",
        "          future_poses = X[:,t:t+self.timestep,:]\n",
        "          past_poses = X[:,:t,:]\n",
        "          if self.past_ae:\n",
        "            h_past = self.past_ae.predict(past_poses)\n",
        "          else:\n",
        "            print('Need a past autoencoder model')\n",
        "          target = X[:,t,:]\n",
        "          \n",
        "          h_past_array[self.batch_size*i : self.batch_size*(i+1),:] = h_past[:,0,:]\n",
        "          future_poses_array[self.batch_size*i:self.batch_size*(i+1),:] = future_poses\n",
        "          target_array[self.batch_size*i:self.batch_size*(i+1),:] = target\n",
        "          \n",
        "        return [future_poses_array,h_past_array], target_array\n",
        "\n",
        "    def on_epoch_end(self):\n",
        "        if self.shuffle:\n",
        "            random.shuffle(self.data_list)\n",
        "\n",
        "    def load_data(self):\n",
        "        data_list = np.load(self.train_data_dir)\n",
        "        return data_list\n"
      ],
      "execution_count": 0,
      "outputs": []
    },
    {
      "cell_type": "markdown",
      "metadata": {
        "id": "n30SnvC-vOlQ",
        "colab_type": "text"
      },
      "source": [
        "### Single Layer"
      ]
    },
    {
      "cell_type": "code",
      "metadata": {
        "id": "UwTRzHqbd5I8",
        "colab_type": "code",
        "colab": {}
      },
      "source": [
        "def compute_vae_loss(z_log_var, z_mean,kl_weight=0.01):\n",
        "    \"\"\"\" Wrapper function which calculates auxiliary values for the complete loss function.\n",
        "     Returns a *function* which calculates the complete loss given only the input and target output \"\"\"\n",
        "    # KL loss\n",
        "    \n",
        "    def compute_kl(z_mean, z_log_var,kl_weight):\n",
        "      kl_loss = 1 + z_log_var - K.square(z_mean) - K.exp(z_log_var)\n",
        "      kl_loss =  -0.5 * kl_weight *K.sum(kl_loss, axis=-1)\n",
        "      return kl_loss\n",
        "    \n",
        "    kl_loss = compute_kl(z_mean, z_log_var,kl_weight)\n",
        " \n",
        "    def vae_loss(y_true, y_pred):\n",
        "        md_loss = mse(y_true, y_pred)\n",
        "        model_loss = kl_loss + md_loss\n",
        "        return model_loss\n",
        "\n",
        "    return vae_loss\n",
        "  \n",
        "  \n",
        "def sampling(args):\n",
        "    z_mean, z_log_var = args\n",
        "    batch = K.shape(z_mean)[0]\n",
        "    dim = K.int_shape(z_mean)[1]\n",
        "    epsilon = K.random_normal(shape=(batch, dim))\n",
        "    return z_mean + K.exp(0.5 * z_log_var) * epsilon\n",
        "  \n",
        "\n",
        "def mse(X, Y, axis=None):\n",
        "  SSE = np.square(Y-X)\n",
        "  MSE = K.mean(SSE, axis=axis)\n",
        "  return MSE\n",
        " "
      ],
      "execution_count": 0,
      "outputs": []
    },
    {
      "cell_type": "code",
      "metadata": {
        "id": "Cxz0ZMYwCx6K",
        "colab_type": "code",
        "colab": {}
      },
      "source": [
        "class future_VAE(object):\n",
        "  \n",
        "    def __init__(self, hidden_dim = 256, #from past autoencoder\n",
        "                elem_dim = 75,\n",
        "                timestep = 5,\n",
        "                latent_dim = 128,\n",
        "                epochs = 5,\n",
        "                enc_intermediate_dim  = 256,\n",
        "                dec_intermediate_dim = 256,\n",
        "                lr = 0.001,\n",
        "                kl_weight = 0.01\n",
        "                ):\n",
        "    \n",
        "        self.hidden_dim = hidden_dim\n",
        "        self.elem_dim = elem_dim\n",
        "        self.epochs = epochs\n",
        "        self.enc_intermediate_dim = enc_intermediate_dim\n",
        "        self.dec_intermediate_dim = dec_intermediate_dim\n",
        "        self.past_ae = None\n",
        "        self.timestep = timestep\n",
        "        self.lr = lr\n",
        "        self.epochs = epochs\n",
        "        self.kl_weight= kl_weight\n",
        "        self.build_model()\n",
        "        \n",
        "\n",
        "    def build_model(self):\n",
        "      \n",
        "        future_poses = Input(shape=(self.timestep, self.elem_dim), name='future_poses') #fixed time step ahead.\n",
        "        h_past = Input(shape=(self.hidden_dim,), name='h_past')\n",
        "        future_poses_r = layers.Lambda(lambda x: x[:, :,:])(future_poses) \n",
        "        future_poses_r = layers.Reshape((self.timestep*self.elem_dim,))(future_poses_r)\n",
        "\n",
        "        # future encoder, but discarded in testing. \n",
        "        enc_inputs = layers.concatenate([h_past,future_poses_r] ,1) #so dimension = (?, hidden_layer + timesteps * 75 )\n",
        "        enc_l1 = Dense(enc_intermediate_dim, activation='relu')(enc_inputs)\n",
        "        self.z_mean = Dense(latent_dim, name='z_mean')(enc_l1)\n",
        "        self.z_log_var = Dense(latent_dim, name='z_log_var')(enc_l1)\n",
        "        z = layers.Lambda(sampling, output_shape=(latent_dim,), name='z')([self.z_mean, self.z_log_var])\n",
        "\n",
        "        # instantiate encoder model\n",
        "        encoder = Model([future_poses,h_past], [self.z_mean, self.z_log_var, z], name='encoder')\n",
        "       \n",
        "        # future decoder\n",
        "        latent = Input(shape=(latent_dim,), name='z_sampling')\n",
        "        latent_inputs = layers.concatenate([latent,h_past] ,1) \n",
        "        \n",
        "        dec_l1 = Dense(dec_intermediate_dim, activation='relu')(latent_inputs)\n",
        "        outputs = Dense(elem_dim, activation='sigmoid')(dec_l1)\n",
        "\n",
        "        # instantiate decoder model\n",
        "        decoder = Model([latent,h_past], outputs, name='decoder')\n",
        "        outputs = decoder([encoder([future_poses,h_past])[2],h_past])\n",
        "        outputs_test = decoder([latent,h_past])\n",
        "\n",
        "        vae = Model([future_poses,h_past], outputs, name='vae')\n",
        "        vae_test = Model(z, outputs_test, name='vae_test')\n",
        "        \n",
        "        \n",
        "    def train(self):\n",
        "        vae_loss = compute_vae_loss(self.z_log_var, self.z_mean, self.kl_weight)\n",
        "        vae.compile(optimizer=optimizers.Adam(lr=lr),loss = vae_loss)\n",
        "        self.model.compile(optimizer=optimizers.Adam(self.lr),loss=losses.mean_squared_error)\n",
        "        self.model.fit_generator(generator=future_generator(past_ae_model = past_ae),\n",
        "                                 epochs=self.epochs,validation_data=([future_val, h_val[:,0,:]],target_val))"
      ],
      "execution_count": 0,
      "outputs": []
    },
    {
      "cell_type": "code",
      "metadata": {
        "id": "In-dXelxSnT4",
        "colab_type": "code",
        "colab": {}
      },
      "source": [
        ""
      ],
      "execution_count": 0,
      "outputs": []
    },
    {
      "cell_type": "markdown",
      "metadata": {
        "id": "TciOS5FbBZsM",
        "colab_type": "text"
      },
      "source": [
        "### Unstructured"
      ]
    },
    {
      "cell_type": "markdown",
      "metadata": {
        "id": "vgNxgVqTkyff",
        "colab_type": "text"
      },
      "source": [
        "One drawback of this approach is error drifting,\n",
        "where the prediction error of the current pose will propagate\n",
        "into the next pose."
      ]
    },
    {
      "cell_type": "code",
      "metadata": {
        "id": "_QB1TZFx4YPn",
        "colab_type": "code",
        "outputId": "8ddd9d59-8c3d-4488-df3f-13399f083ee1",
        "colab": {
          "base_uri": "https://localhost:8080/",
          "height": 901
        }
      },
      "source": [
        "\n",
        "#https://keras.io/examples/variational_autoencoder/\n",
        "#https://keras.io/getting-started/faq/#how-can-i-obtain-the-output-of-an-intermediate-layer\n",
        "#https://machinelearningmastery.com/return-sequences-and-return-states-for-lstms-in-keras/\n",
        "\n",
        "\n",
        "hidden_dim = 256 #from past autoencoder\n",
        "elem_dim = 75\n",
        "timestep = 10\n",
        "latent_dim = 128\n",
        "epochs = 10\n",
        "enc_intermediate_dim  = 256\n",
        "dec_intermediate_dim = 256\n",
        "lr = 0.001\n",
        "\n",
        "### Validation data\n",
        "X_val= np.load(dataset_path + 'PKUMMD/X_test.npy')\n",
        "h_val = past_ae_lstm.predict(X_val[:50,:100,:])\n",
        "future_val = X_val[:50,100:100+timestep,:]\n",
        "target_val = X_val[:50,100,:]\n",
        "####\n",
        "\n",
        "future_poses = Input(shape=(timestep, elem_dim), name='future_poses') #fixed time step ahead.\n",
        "h_past = Input(shape=(hidden_dim,), name='h_past')\n",
        "future_poses_r = layers.Lambda(lambda x: x[:, :,:])(future_poses) \n",
        "\n",
        "#future_poses_dim = future_poses.get_shape().as_list()\n",
        "future_poses_r = layers.Reshape((timestep*elem_dim,))(future_poses_r)\n",
        "#future_poses_r = tf.keras.layers.Flatten(future_poses)\n",
        "enc_inputs = layers.concatenate([h_past,future_poses_r] ,1) #so dimension = (?, hidden_layer + timesteps * 75 )\n",
        "enc_inputs = Dropout(0.1)(enc_inputs )\n",
        "enc_l1 = Dense(enc_intermediate_dim, activation='relu')(enc_inputs)\n",
        "enc_l1 = Dropout(0.1)(enc_l1)\n",
        "\n",
        "z_mean = Dense(latent_dim, name='z_mean')(enc_l1)\n",
        "z_log_var = Dense(latent_dim, name='z_log_var')(enc_l1)\n",
        "z = layers.Lambda(sampling, output_shape=(latent_dim,), name='z')([z_mean, z_log_var])\n",
        "\n",
        "# instantiate encoder model\n",
        "encoder = Model([future_poses,h_past], [z_mean, z_log_var, z], name='encoder')\n",
        "encoder.summary()\n",
        "plot_model(encoder, to_file='vae_mlp_encoder.png', show_shapes=True)\n",
        "\n",
        "# build decoder model\n",
        "# input: z and concat with current pose? \n",
        "latent = Input(shape=(latent_dim,), name='z_sampling')\n",
        "latent_inputs = layers.concatenate([latent,h_past] ,1) \n",
        "\n",
        "dec_l1 = Dense(dec_intermediate_dim, activation='relu')(latent_inputs)\n",
        "dec_l1 = Dropout(0.1)(dec_l1)\n",
        "\n",
        "outputs = Dense(elem_dim, activation='sigmoid')(dec_l1)\n",
        "\n",
        "# instantiate decoder model\n",
        "decoder = Model([latent,h_past], outputs, name='decoder')\n",
        "\n",
        "outputs = decoder([encoder([future_poses,h_past])[2],h_past])\n",
        "\n",
        "#z_test = layers.Lambda(sampling, output_shape=(latent_dim,), name='z')([tf.ones(latent_dim), tf.ones(latent_dim)])\n",
        "outputs_test = decoder([latent,h_past])\n",
        "\n",
        "vae = Model([future_poses,h_past], outputs, name='vae_mlp')\n",
        "vae_test = Model([latent,h_past], outputs_test, name='vae_test') #so this way only take \n",
        "\n",
        "vae_loss = compute_vae_loss(z_log_var, z_mean)\n",
        "#vae.add_loss()\n",
        "vae.compile(optimizer=optimizers.Adam(lr=lr),loss = vae_loss) #losses.mean_squared_error\n",
        "vae.fit_generator(generator=future_generator(past_ae_model = past_ae_lstm),epochs=epochs, \n",
        "                  validation_data=([future_val, h_val[:,0,:]],target_val))\n"
      ],
      "execution_count": 0,
      "outputs": [
        {
          "output_type": "stream",
          "text": [
            "__________________________________________________________________________________________________\n",
            "Layer (type)                    Output Shape         Param #     Connected to                     \n",
            "==================================================================================================\n",
            "future_poses (InputLayer)       (None, 10, 75)       0                                            \n",
            "__________________________________________________________________________________________________\n",
            "lambda_13 (Lambda)              (None, 10, 75)       0           future_poses[0][0]               \n",
            "__________________________________________________________________________________________________\n",
            "h_past (InputLayer)             (None, 256)          0                                            \n",
            "__________________________________________________________________________________________________\n",
            "reshape_13 (Reshape)            (None, 750)          0           lambda_13[0][0]                  \n",
            "__________________________________________________________________________________________________\n",
            "concatenate_24 (Concatenate)    (None, 1006)         0           h_past[0][0]                     \n",
            "                                                                 reshape_13[0][0]                 \n",
            "__________________________________________________________________________________________________\n",
            "dropout_10 (Dropout)            (None, 1006)         0           concatenate_24[0][0]             \n",
            "__________________________________________________________________________________________________\n",
            "dense_46 (Dense)                (None, 256)          257792      dropout_10[0][0]                 \n",
            "__________________________________________________________________________________________________\n",
            "dropout_11 (Dropout)            (None, 256)          0           dense_46[0][0]                   \n",
            "__________________________________________________________________________________________________\n",
            "z_mean (Dense)                  (None, 128)          32896       dropout_11[0][0]                 \n",
            "__________________________________________________________________________________________________\n",
            "z_log_var (Dense)               (None, 128)          32896       dropout_11[0][0]                 \n",
            "__________________________________________________________________________________________________\n",
            "z (Lambda)                      (None, 128)          0           z_mean[0][0]                     \n",
            "                                                                 z_log_var[0][0]                  \n",
            "==================================================================================================\n",
            "Total params: 323,584\n",
            "Trainable params: 323,584\n",
            "Non-trainable params: 0\n",
            "__________________________________________________________________________________________________\n",
            "Epoch 1/10\n",
            "11/11 [==============================] - 147s 13s/step - loss: 0.1915 - val_loss: 0.1113\n",
            "Epoch 2/10\n",
            "11/11 [==============================] - 144s 13s/step - loss: 0.0804 - val_loss: 0.0532\n",
            "Epoch 3/10\n",
            "11/11 [==============================] - 144s 13s/step - loss: 0.0357 - val_loss: 0.0315\n",
            "Epoch 4/10\n",
            "11/11 [==============================] - 143s 13s/step - loss: 0.0202 - val_loss: 0.0231\n",
            "Epoch 5/10\n",
            "11/11 [==============================] - 143s 13s/step - loss: 0.0129 - val_loss: 0.0149\n",
            "Epoch 6/10\n",
            "11/11 [==============================] - 143s 13s/step - loss: 0.0086 - val_loss: 0.0114\n",
            "Epoch 7/10\n",
            "11/11 [==============================] - 143s 13s/step - loss: 0.0056 - val_loss: 0.0083\n",
            "Epoch 8/10\n",
            "11/11 [==============================] - 143s 13s/step - loss: 0.0039 - val_loss: 0.0070\n",
            "Epoch 9/10\n",
            "11/11 [==============================] - 142s 13s/step - loss: 0.0029 - val_loss: 0.0052\n",
            "Epoch 10/10\n",
            "11/11 [==============================] - 142s 13s/step - loss: 0.0023 - val_loss: 0.0059\n"
          ],
          "name": "stdout"
        },
        {
          "output_type": "execute_result",
          "data": {
            "text/plain": [
              "<keras.callbacks.History at 0x7f0bf8f9f2e8>"
            ]
          },
          "metadata": {
            "tags": []
          },
          "execution_count": 49
        }
      ]
    },
    {
      "cell_type": "code",
      "metadata": {
        "id": "c5BXrQ5cJ4HW",
        "colab_type": "code",
        "colab": {}
      },
      "source": [
        "vae.save(dataset_path+'models/keras_vae_model2.h5') "
      ],
      "execution_count": 0,
      "outputs": []
    },
    {
      "cell_type": "code",
      "metadata": {
        "id": "PaseasTScoV4",
        "colab_type": "code",
        "outputId": "75d19650-6d5a-49df-f133-5489acd51e38",
        "colab": {
          "base_uri": "https://localhost:8080/",
          "height": 34
        }
      },
      "source": [
        "X_test= np.load(dataset_path + 'PKUMMD/X_test.npy')\n",
        "h_test = past_ae_lstm.predict(X_test[:,:100,:])\n",
        "pred =vae.predict([X_test[:,100:110,:],h_test[:,0,:]]) #want to predict the 10th action\n",
        "loss = np.mean((pred-X_test[:,100,:])**2)\n",
        "loss"
      ],
      "execution_count": 0,
      "outputs": [
        {
          "output_type": "execute_result",
          "data": {
            "text/plain": [
              "0.004285243954252144"
            ]
          },
          "metadata": {
            "tags": []
          },
          "execution_count": 51
        }
      ]
    },
    {
      "cell_type": "code",
      "metadata": {
        "id": "QbjaBLMaFYuC",
        "colab_type": "code",
        "outputId": "8ec51dbb-9338-45e0-c601-68c23f510102",
        "colab": {
          "base_uri": "https://localhost:8080/",
          "height": 34
        }
      },
      "source": [
        "X_train= np.load(dataset_path + 'PKUMMD/X_train.npy')\n",
        "h_train= past_ae_lstm.predict(X_train[:,:100,:])\n",
        "pred =vae.predict([X_train[:,100:110,:],h_train[:,0,:]]) #want to predict the 10th action\n",
        "loss = np.mean((pred-X_train[:,100,:])**2)\n",
        "loss"
      ],
      "execution_count": 0,
      "outputs": [
        {
          "output_type": "execute_result",
          "data": {
            "text/plain": [
              "0.005694899873231995"
            ]
          },
          "metadata": {
            "tags": []
          },
          "execution_count": 52
        }
      ]
    },
    {
      "cell_type": "markdown",
      "metadata": {
        "id": "jxQxKPtx3gL9",
        "colab_type": "text"
      },
      "source": [
        "### Predict future poses recursively"
      ]
    },
    {
      "cell_type": "code",
      "metadata": {
        "id": "joLVmh3OKHri",
        "colab_type": "code",
        "outputId": "7ccb15a3-73b8-435c-a2a1-7e8e5cafe1fb",
        "colab": {
          "base_uri": "https://localhost:8080/",
          "height": 34
        }
      },
      "source": [
        "#We know the future.. still in a training environment. \n",
        "#now predict poses recursively for the nex...\n",
        "n_pred = 50\n",
        "n_start = 10\n",
        "short_target_obs = X_test[:10,n_start,:]\n",
        "long_target_obs = X_test[:10,:n_start+n_pred,:]\n",
        "long_prediction = np.zeros_like(X_test[:10,: n_start + n_pred, :])\n",
        "print(long_prediction.shape)\n",
        "#fill the prediction sequence with past observation up to starting point. \n",
        "long_prediction[:,:n_start,:] = X_test[:10,:n_start,:]\n",
        "\n",
        "for t in np.arange(n_start,n_start+n_pred):\n",
        "  past_obs = X_test[:10,:t,:]\n",
        "  future_obs = X_test[:10,t:t+10,:]\n",
        "  h_test = past_ae_lstm.predict(past_obs)\n",
        "  pred =vae.predict([future_obs,h_test[:,0,:]])\n",
        "  past_obs = np.concatenate([past_obs,pred.reshape(10,1,75)], axis=1)\n",
        "  long_prediction[:,t,:] = pred\n"
      ],
      "execution_count": 0,
      "outputs": [
        {
          "output_type": "stream",
          "text": [
            "(10, 60, 75)\n"
          ],
          "name": "stdout"
        }
      ]
    },
    {
      "cell_type": "code",
      "metadata": {
        "id": "XZBX_beD8C3J",
        "colab_type": "code",
        "colab": {}
      },
      "source": [
        "MSE_time = np.mean((long_target_obs[:,n_start:,:] - long_prediction[:,n_start:,:])**2, axis=(0,-1))"
      ],
      "execution_count": 0,
      "outputs": []
    },
    {
      "cell_type": "code",
      "metadata": {
        "id": "azSzYa0R_weu",
        "colab_type": "code",
        "outputId": "ef69bfa0-4124-40b1-9e74-57552d2a5cc4",
        "colab": {
          "base_uri": "https://localhost:8080/",
          "height": 298
        }
      },
      "source": [
        "plt.plot(range(n_pred),MSE_time)\n",
        "plt.title('MSE of predicted pose over time, for n_start = 10')"
      ],
      "execution_count": 0,
      "outputs": [
        {
          "output_type": "execute_result",
          "data": {
            "text/plain": [
              "Text(0.5, 1.0, 'MSE of predicted pose over time, for n_start = 10')"
            ]
          },
          "metadata": {
            "tags": []
          },
          "execution_count": 123
        },
        {
          "output_type": "display_data",
          "data": {
            "image/png": "[encoded data removed]",
            "text/plain": [
              "<Figure size 432x288 with 1 Axes>"
            ]
          },
          "metadata": {
            "tags": []
          }
        }
      ]
    },
    {
      "cell_type": "code",
      "metadata": {
        "id": "n3wpwQZO_Cgj",
        "colab_type": "code",
        "outputId": "c94b8edb-801a-40aa-ef2e-5e39dd2afc18",
        "colab": {
          "base_uri": "https://localhost:8080/",
          "height": 34
        }
      },
      "source": [
        "MSE = np.mean((long_target_obs[:,n_start:,:] - long_prediction[:,n_start:,:] )**2)\n",
        "MSE"
      ],
      "execution_count": 0,
      "outputs": [
        {
          "output_type": "execute_result",
          "data": {
            "text/plain": [
              "0.01949357261188715"
            ]
          },
          "metadata": {
            "tags": []
          },
          "execution_count": 117
        }
      ]
    },
    {
      "cell_type": "code",
      "metadata": {
        "id": "pET6_Jdb9-IG",
        "colab_type": "code",
        "colab": {}
      },
      "source": [
        "#We know the future.. still in a training environment. \n",
        "#now predict poses recursively for the nex...\n",
        "n_pred = 50\n",
        "n_start = 50\n",
        "short_target_obs = X_test[:10,n_start,:]\n",
        "long_target_obs = X_test[:10,:n_start+n_pred,:]\n",
        "long_prediction = np.zeros_like(X_test[:10,: n_start + n_pred, :])\n",
        "#fill the prediction sequence with past observation up to starting point. \n",
        "long_prediction[:,:n_start,:] = X_test[:10,:n_start,:]\n",
        "\n",
        "#h_test = past_ae_lstm.predict(past_obs)\n",
        "#pred =vae.predict([future_obs,h_test[:,0,:]])\n",
        "#past_obs = np.concat(past_obs,pred, axis=1) #append the last prediction as past observation\n",
        "\n",
        "for t in np.arange(n_start,n_start+n_pred):\n",
        "  past_obs = X_test[:10,:t,:]\n",
        "  future_obs = X_test[:10,t:t+10,:]\n",
        "  h_test = past_ae_lstm.predict(past_obs)\n",
        "  pred =vae.predict([future_obs,h_test[:,0,:]])\n",
        "  past_obs = np.concatenate([past_obs,pred.reshape(10,1,75)], axis=1)\n",
        "  long_prediction[:,t,:] = pred"
      ],
      "execution_count": 0,
      "outputs": []
    },
    {
      "cell_type": "code",
      "metadata": {
        "id": "5gYStm2W9-5m",
        "colab_type": "code",
        "colab": {}
      },
      "source": [
        "MSE_time = np.mean((long_target_obs[:,n_start:,:] - long_prediction[:,n_start:,:] )**2, axis=(0,-1))"
      ],
      "execution_count": 0,
      "outputs": []
    },
    {
      "cell_type": "code",
      "metadata": {
        "id": "N2M2SkBY--HI",
        "colab_type": "code",
        "outputId": "80b74690-215e-4b3b-b1ff-dfdb942289c7",
        "colab": {
          "base_uri": "https://localhost:8080/",
          "height": 34
        }
      },
      "source": [
        "np.mean((long_target_obs[:,n_start:,:] - long_prediction[:,n_start:,:] )**2)"
      ],
      "execution_count": 0,
      "outputs": [
        {
          "output_type": "execute_result",
          "data": {
            "text/plain": [
              "0.008530360319874312"
            ]
          },
          "metadata": {
            "tags": []
          },
          "execution_count": 104
        }
      ]
    },
    {
      "cell_type": "code",
      "metadata": {
        "id": "pl7UuQQSAD7X",
        "colab_type": "code",
        "outputId": "88b8b697-5d31-4741-e2ce-76384ce516da",
        "colab": {
          "base_uri": "https://localhost:8080/",
          "height": 298
        }
      },
      "source": [
        "plt.plot(range(n_pred),MSE_time)\n",
        "plt.title('MSE of predicted pose over time, for n_start = 10')"
      ],
      "execution_count": 0,
      "outputs": [
        {
          "output_type": "execute_result",
          "data": {
            "text/plain": [
              "Text(0.5, 1.0, 'MSE of predicted pose over time, for n_start = 10')"
            ]
          },
          "metadata": {
            "tags": []
          },
          "execution_count": 128
        },
        {
          "output_type": "display_data",
          "data": {
            "image/png": "[encoded data removed]",
            "text/plain": [
              "<Figure size 432x288 with 1 Axes>"
            ]
          },
          "metadata": {
            "tags": []
          }
        }
      ]
    },
    {
      "cell_type": "code",
      "metadata": {
        "id": "0F0EvjZ5A-Uk",
        "colab_type": "code",
        "colab": {}
      },
      "source": [
        "np.save(dataset_path+'future_target_10_test_nstart_50.npy',long_target_obs[:,n_start:,:])"
      ],
      "execution_count": 0,
      "outputs": []
    },
    {
      "cell_type": "code",
      "metadata": {
        "id": "KM0kPUl1BHGt",
        "colab_type": "code",
        "colab": {}
      },
      "source": [
        "np.save(dataset_path+'futre_pred_10_test_nstart_10.npy',long_prediction[:,n_start:,:])"
      ],
      "execution_count": 0,
      "outputs": []
    },
    {
      "cell_type": "code",
      "metadata": {
        "id": "9VJttdXl9-9F",
        "colab_type": "code",
        "colab": {}
      },
      "source": [
        "#np.mean((long_target_obs[0,n_start:,:] - long_prediction[0,n_start:,:])**2,axis=(-1))"
      ],
      "execution_count": 0,
      "outputs": []
    },
    {
      "cell_type": "markdown",
      "metadata": {
        "id": "ctKL8FD3lznl",
        "colab_type": "text"
      },
      "source": [
        "# Dropout Autoencoder - Pretrain"
      ]
    },
    {
      "cell_type": "code",
      "metadata": {
        "id": "-LM6n5ibqh2u",
        "colab_type": "code",
        "colab": {}
      },
      "source": [
        "#https://bitbucket.org/parthaEth/humanposeprediction/src/ERD/python_models/EvaluateAutoEncoder/DropOutJointsExpt.py\n",
        "def expandToAll3AxisIndices(index_list):\n",
        "  #assuming the pose data is 25 x 3 not 3 x 25! \n",
        "    expanded_list = []\n",
        "    for idx in index_list:\n",
        "        for i in range(3):\n",
        "            expanded_list.append((i*25)+idx)\n",
        "    return expanded_list\n",
        "  \n",
        "  \n",
        "def expandToAll3AxisIndices_old(index_list):\n",
        "  #assuming the pose data is 25 x 3 not 3 x 25! \n",
        "    expanded_list = []\n",
        "    for idx in index_list:\n",
        "        for i in range(3):\n",
        "            expanded_list.append((idx-1) * 3 + i)\n",
        "    return expanded_list\n",
        "  \n",
        "  \n",
        "def random_select_2D(batch_num,dropout_rate):\n",
        "  joint_num = 25\n",
        "  num_to_drop = int(dropout_rate*joint_num)\n",
        "  index_array = np.random.randint(joint_num, size=(batch_num,num_to_drop))\n",
        "  return index_array\n",
        "\n",
        "def random_select(dropout_rate):\n",
        "  joint_num = 25\n",
        "  num_to_drop = int(dropout_rate*joint_num)\n",
        "  index_array = np.random.randint(joint_num, size=(num_to_drop))\n",
        "  return index_array"
      ],
      "execution_count": 0,
      "outputs": []
    },
    {
      "cell_type": "code",
      "metadata": {
        "id": "3ajHrtKxg8gH",
        "colab_type": "code",
        "colab": {}
      },
      "source": [
        "#Generates inputs for encoder: which is concat of future poses with past information. \n",
        "#Also generates target, which is a few poses in future. \n",
        "#Set to one step for now, while h_past is computed from t>10\n",
        "\n",
        "class dae_generator(keras.utils.Sequence):\n",
        "\n",
        "    def __init__(self,\n",
        "                 train_data_dir=dataset_path + 'PKUMMD/X_train.npy',\n",
        "                 valid_data_dir=dataset_path + 'PKUMMD/X_val.npy',\n",
        "                 batch_size=128,\n",
        "                 shuffle=True,\n",
        "                 corrupt=True,\n",
        "                 train = True,\n",
        "                 dropout_rate = 0.5):\n",
        "\n",
        "        self.train_data_dir = train_data_dir\n",
        "        self.valid_data_dir = valid_data_dir\n",
        "        self.batch_size = batch_size\n",
        "        self.shuffle = shuffle\n",
        "        self.train = train \n",
        "        self.data_list = self.load_data()\n",
        "        self.on_epoch_end()\n",
        "        self.corrupt = corrupt\n",
        "        self.dropout_rate = dropout_rate #or create some sort of schedule... \n",
        "        \n",
        "    def __len__(self):\n",
        "        return int(len(self.data_list) / self.batch_size)\n",
        "\n",
        "    def __getitem__(self, idx):\n",
        "\n",
        "      data = self.data_list[idx * self.batch_size:(idx + 1) * self.batch_size] #load by batch.\n",
        "      target = np.zeros((data.shape[0]* data.shape[1],data.shape[-1]))\n",
        "      filtered = np.zeros((data.shape[0]* data.shape[1],data.shape[-1]))\n",
        "\n",
        "      #loop by timestep, return each frame through time by batch. \n",
        "      for t in range(data.shape[1]):\n",
        "        X_original = np.asarray(data[:,t,:], dtype=np.float32)\n",
        "\n",
        "        #define a data generator\n",
        "        index_array = random_select(self.dropout_rate) #or do an array... \n",
        "        dropout_idx = expandToAll3AxisIndices(index_array)\n",
        "        X_filtered = np.array(X_original)\n",
        "\n",
        "        ## drop by letting it be 0\n",
        "        ## train by dropping the same joint per batch? \n",
        "        if self.corrupt:\n",
        "          X_filtered[:,dropout_idx] = 0\n",
        "        else:\n",
        "          range_scale = 0.4\n",
        "          X_filtered[:, dropout_idx] += np.random.uniform(low=-range_scale, high=range_scale,size=len(dropout_idx))\n",
        "\n",
        "        #print('t=',t)\n",
        "        target[t*self.batch_size:(t+1)*self.batch_size,:] = X_original \n",
        "        filtered[t*self.batch_size:(t+1)*self.batch_size,:] = X_filtered\n",
        "\n",
        "\n",
        "        return filtered, target\n",
        "\n",
        "    def on_epoch_end(self):\n",
        "        if self.shuffle:\n",
        "            random.shuffle(self.data_list)\n",
        "\n",
        "    def load_data(self):\n",
        "        if self.train:\n",
        "          data_list = np.load(self.train_data_dir)\n",
        "        else:\n",
        "          data_list = np.load(self.valid_data_dir)\n",
        "        #But instead, reshape such that each frame is one example!\n",
        "        #data_list = data.reshape(data.shape[0]*data.shape[1], data.shape[-1])\n",
        "        return data_list\n"
      ],
      "execution_count": 0,
      "outputs": []
    },
    {
      "cell_type": "code",
      "metadata": {
        "id": "Kg_hUo23yTbw",
        "colab_type": "code",
        "colab": {}
      },
      "source": [
        "class DAE(object):\n",
        "  \n",
        "    def __init__(self, hidden_dim = 256, #from past autoencoder\n",
        "                elem_dim = 75,\n",
        "                epochs = 8,\n",
        "                lr = 0.001,\n",
        "                 **kwargs):\n",
        "    \n",
        "        self.valid_data_dir = dataset_path + 'PKUMMD/X_train.npy'\n",
        "        self.hidden_dim = hidden_dim\n",
        "        self.elem_dim = elem_dim\n",
        "        self.epochs = epochs\n",
        "        self.lr = lr\n",
        "        self.epochs = epochs\n",
        "        self.build_model()\n",
        "\n",
        "    def build_model(self):\n",
        "        dropout_poses = Input(shape=(self.elem_dim,), name='dropout_poses')\n",
        "        l1 = Dense(self.hidden_dim,activation='relu')(dropout_poses)\n",
        "        #drop_l1 = tf.layers.dropout(inputs = l1,rate=0.2)\n",
        "        #print('dropoute')\n",
        "        l2 = Dense(self.hidden_dim,activation='relu')(l1)\n",
        "        #drop_l2 = Dropout(rate=0.2)\n",
        "        #drop_l2 = tf.layers.dropout(inputs = l2,rate=0.2)\n",
        "        l3 = Dense(self.hidden_dim,activation='relu')(l2)\n",
        "        #drop_l3 = tf.layers.dropout(inputs = l3,rate=0.2)\n",
        "        recon_poses = Dense(self.elem_dim)(l3)\n",
        "        self.model = Model(dropout_poses, recon_poses, name='dae')\n",
        "\n",
        "    def train(self):\n",
        "        params_train = {'shuffle': True,'train':True}\n",
        "        params_val = {'shuffle': False,'train':False}\n",
        "        self.model.compile(optimizer=optimizers.Adam(lr=self.lr),loss = losses.mean_squared_error) \n",
        "        self.model.fit_generator(generator=dae_generator(**params_train),epochs=self.epochs,validation_data=dae_generator(**params_val))\n"
      ],
      "execution_count": 0,
      "outputs": []
    },
    {
      "cell_type": "code",
      "metadata": {
        "id": "U6ngtQYndQjD",
        "colab_type": "code",
        "colab": {}
      },
      "source": [
        ""
      ],
      "execution_count": 0,
      "outputs": []
    },
    {
      "cell_type": "code",
      "metadata": {
        "id": "vlNft_6y4E-s",
        "colab_type": "code",
        "outputId": "136a4fbb-eee9-4f94-a4c9-465730e64a97",
        "colab": {
          "base_uri": "https://localhost:8080/",
          "height": 343
        }
      },
      "source": [
        "dae = DAE()\n",
        "dae.train()"
      ],
      "execution_count": 0,
      "outputs": [
        {
          "output_type": "stream",
          "text": [
            "W0704 10:08:36.870774 139693775861632 deprecation_wrapper.py:119] From /usr/local/lib/python3.6/dist-packages/keras/optimizers.py:790: The name tf.train.Optimizer is deprecated. Please use tf.compat.v1.train.Optimizer instead.\n",
            "\n"
          ],
          "name": "stderr"
        },
        {
          "output_type": "stream",
          "text": [
            "Epoch 1/8\n",
            "11/11 [==============================] - 5s 496ms/step - loss: 3.0087e-04 - val_loss: 1.0589e-04\n",
            "Epoch 2/8\n",
            "11/11 [==============================] - 1s 108ms/step - loss: 6.3946e-05 - val_loss: 2.2998e-05\n",
            "Epoch 3/8\n",
            "11/11 [==============================] - 1s 104ms/step - loss: 2.8846e-05 - val_loss: 2.1026e-05\n",
            "Epoch 4/8\n",
            "11/11 [==============================] - 1s 104ms/step - loss: 1.9725e-05 - val_loss: 1.7806e-05\n",
            "Epoch 5/8\n",
            "11/11 [==============================] - 1s 104ms/step - loss: 1.7160e-05 - val_loss: 2.2542e-05\n",
            "Epoch 6/8\n",
            "11/11 [==============================] - 1s 108ms/step - loss: 1.3789e-05 - val_loss: 1.3395e-05\n",
            "Epoch 7/8\n",
            "11/11 [==============================] - 1s 102ms/step - loss: 1.4956e-05 - val_loss: 1.0784e-05\n",
            "Epoch 8/8\n",
            "11/11 [==============================] - 1s 106ms/step - loss: 1.1169e-05 - val_loss: 1.1519e-05\n"
          ],
          "name": "stdout"
        }
      ]
    },
    {
      "cell_type": "code",
      "metadata": {
        "id": "nt-nEnZbHDnB",
        "colab_type": "code",
        "colab": {}
      },
      "source": [
        "from keras.models import load_model\n",
        "#K.clear_session()\n",
        "dae.model.save(dataset_path+'models/keras_dae_model.h5')  # creates a HDF5 file 'my_model.h5'"
      ],
      "execution_count": 0,
      "outputs": []
    },
    {
      "cell_type": "markdown",
      "metadata": {
        "id": "Z8xpNnd-0p4X",
        "colab_type": "text"
      },
      "source": [
        "### unstructured"
      ]
    },
    {
      "cell_type": "code",
      "metadata": {
        "id": "ssZIFS1Ql6Ci",
        "colab_type": "code",
        "outputId": "9b1073b4-dfe7-4b3d-8ae2-a92cb48ff2f8",
        "colab": {
          "base_uri": "https://localhost:8080/",
          "height": 204
        }
      },
      "source": [
        "#trained seperately? on stationary poses? \n",
        "#article suggested three 3000-size dense layers!! with annealing dropout rate from 0.5\n",
        "K.clear_session()\n",
        "elem_dim = 75\n",
        "hidden_dim = 500 \n",
        "lr = 0.001\n",
        "#original_poses = Input(shape=(elem_dim,), name='original_poses') #fixed time step ahead.\n",
        "\n",
        "epochs = 5\n",
        "dropout_rate = 0.2\n",
        "\n",
        "dropout_poses = Input(shape=(elem_dim,), name='dropout_poses')\n",
        "drop_l1 = Dense(hidden_dim,activation='relu')(dropout_poses)\n",
        "drop_l2 = Dense(hidden_dim,activation='relu')(drop_l1)\n",
        "drop_l3 = Dense(hidden_dim,activation='relu')(drop_l2)\n",
        "recon_poses = Dense(elem_dim)(drop_l3)\n",
        "\n",
        "dae = Model(dropout_poses, recon_poses, name='dae')\n",
        "dae.compile(optimizer=optimizers.Adam(lr=lr),loss = losses.mean_squared_error) \n",
        "dae.fit_generator(generator=dae_generator(),epochs=epochs)#validation_data=(x_val, x_val)\n"
      ],
      "execution_count": 0,
      "outputs": [
        {
          "output_type": "stream",
          "text": [
            "Epoch 1/5\n",
            "11/11 [==============================] - 2s 172ms/step - loss: 0.0087\n",
            "Epoch 2/5\n",
            "11/11 [==============================] - 2s 152ms/step - loss: 0.0014\n",
            "Epoch 3/5\n",
            "11/11 [==============================] - 2s 155ms/step - loss: 7.9368e-04\n",
            "Epoch 4/5\n",
            "11/11 [==============================] - 2s 154ms/step - loss: 5.0673e-04\n",
            "Epoch 5/5\n",
            "11/11 [==============================] - 2s 155ms/step - loss: 3.9211e-04\n"
          ],
          "name": "stdout"
        },
        {
          "output_type": "execute_result",
          "data": {
            "text/plain": [
              "<keras.callbacks.History at 0x7f1975f18b70>"
            ]
          },
          "metadata": {
            "tags": []
          },
          "execution_count": 43
        }
      ]
    },
    {
      "cell_type": "code",
      "metadata": {
        "id": "je0-k1FYt5Yo",
        "colab_type": "code",
        "colab": {}
      },
      "source": [
        ""
      ],
      "execution_count": 0,
      "outputs": []
    },
    {
      "cell_type": "markdown",
      "metadata": {
        "id": "btlGJl1rvRhS",
        "colab_type": "text"
      },
      "source": [
        "# Future VAE LSTM - Not done"
      ]
    },
    {
      "cell_type": "code",
      "metadata": {
        "id": "SOsgmx5qvTyc",
        "colab_type": "code",
        "colab": {}
      },
      "source": [
        ""
      ],
      "execution_count": 0,
      "outputs": []
    },
    {
      "cell_type": "markdown",
      "metadata": {
        "id": "5gRYA8eXzj_x",
        "colab_type": "text"
      },
      "source": [
        "# Future VQ-VAE - Not done"
      ]
    },
    {
      "cell_type": "code",
      "metadata": {
        "id": "a7IqWWyBzlyb",
        "colab_type": "code",
        "colab": {}
      },
      "source": [
        ""
      ],
      "execution_count": 0,
      "outputs": []
    }
  ]
}